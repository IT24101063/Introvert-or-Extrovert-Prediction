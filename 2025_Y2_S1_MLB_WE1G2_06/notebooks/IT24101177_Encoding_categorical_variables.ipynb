{
 "cells": [
  {
   "cell_type": "code",
   "execution_count": 1,
   "id": "76a6aa86-ac74-400c-adca-aef36b44a333",
   "metadata": {},
   "outputs": [],
   "source": [
    "import pandas as pd\n",
    "import numpy as np\n",
    "import seaborn as sns\n",
    "import matplotlib.pyplot as plt\n",
    "%matplotlib inline\n",
    "sns.set(color_codes=True)"
   ]
  },
  {
   "cell_type": "code",
   "execution_count": 2,
   "id": "a7e72f8c-9535-4a3b-a76c-b92e7362d3b3",
   "metadata": {},
   "outputs": [],
   "source": [
    "data = pd.read_csv('../artifacts/personality_dataset.csv')"
   ]
  },
  {
   "cell_type": "code",
   "execution_count": 3,
   "id": "d9fa6f62-1f40-4eda-a88e-fd0a826a3037",
   "metadata": {},
   "outputs": [
    {
     "data": {
      "text/html": [
       "<div>\n",
       "<style scoped>\n",
       "    .dataframe tbody tr th:only-of-type {\n",
       "        vertical-align: middle;\n",
       "    }\n",
       "\n",
       "    .dataframe tbody tr th {\n",
       "        vertical-align: top;\n",
       "    }\n",
       "\n",
       "    .dataframe thead th {\n",
       "        text-align: right;\n",
       "    }\n",
       "</style>\n",
       "<table border=\"1\" class=\"dataframe\">\n",
       "  <thead>\n",
       "    <tr style=\"text-align: right;\">\n",
       "      <th></th>\n",
       "      <th>Time_spent_Alone</th>\n",
       "      <th>Stage_fear</th>\n",
       "      <th>Social_event_attendance</th>\n",
       "      <th>Going_outside</th>\n",
       "      <th>Drained_after_socializing</th>\n",
       "      <th>Friends_circle_size</th>\n",
       "      <th>Post_frequency</th>\n",
       "      <th>Personality</th>\n",
       "    </tr>\n",
       "  </thead>\n",
       "  <tbody>\n",
       "    <tr>\n",
       "      <th>0</th>\n",
       "      <td>3</td>\n",
       "      <td>Yes</td>\n",
       "      <td>6</td>\n",
       "      <td>7</td>\n",
       "      <td>No</td>\n",
       "      <td>14</td>\n",
       "      <td>5</td>\n",
       "      <td>Extrovert</td>\n",
       "    </tr>\n",
       "    <tr>\n",
       "      <th>1</th>\n",
       "      <td>2</td>\n",
       "      <td>No</td>\n",
       "      <td>8</td>\n",
       "      <td>6</td>\n",
       "      <td>No</td>\n",
       "      <td>7</td>\n",
       "      <td>8</td>\n",
       "      <td>Extrovert</td>\n",
       "    </tr>\n",
       "    <tr>\n",
       "      <th>2</th>\n",
       "      <td>1</td>\n",
       "      <td>No</td>\n",
       "      <td>9</td>\n",
       "      <td>4</td>\n",
       "      <td>No</td>\n",
       "      <td>9</td>\n",
       "      <td>3</td>\n",
       "      <td>Extrovert</td>\n",
       "    </tr>\n",
       "    <tr>\n",
       "      <th>3</th>\n",
       "      <td>8</td>\n",
       "      <td>No</td>\n",
       "      <td>0</td>\n",
       "      <td>0</td>\n",
       "      <td>Yes</td>\n",
       "      <td>9</td>\n",
       "      <td>3</td>\n",
       "      <td>Introvert</td>\n",
       "    </tr>\n",
       "    <tr>\n",
       "      <th>4</th>\n",
       "      <td>5</td>\n",
       "      <td>Yes</td>\n",
       "      <td>3</td>\n",
       "      <td>0</td>\n",
       "      <td>No</td>\n",
       "      <td>2</td>\n",
       "      <td>6</td>\n",
       "      <td>Introvert</td>\n",
       "    </tr>\n",
       "  </tbody>\n",
       "</table>\n",
       "</div>"
      ],
      "text/plain": [
       "   Time_spent_Alone Stage_fear  Social_event_attendance  Going_outside  \\\n",
       "0                 3        Yes                        6              7   \n",
       "1                 2         No                        8              6   \n",
       "2                 1         No                        9              4   \n",
       "3                 8         No                        0              0   \n",
       "4                 5        Yes                        3              0   \n",
       "\n",
       "  Drained_after_socializing  Friends_circle_size  Post_frequency Personality  \n",
       "0                        No                   14               5   Extrovert  \n",
       "1                        No                    7               8   Extrovert  \n",
       "2                        No                    9               3   Extrovert  \n",
       "3                       Yes                    9               3   Introvert  \n",
       "4                        No                    2               6   Introvert  "
      ]
     },
     "metadata": {},
     "output_type": "display_data"
    }
   ],
   "source": [
    "display(data.head())  # printing first 5 rows"
   ]
  },
  {
   "cell_type": "code",
   "execution_count": 4,
   "id": "a1b7d734-854f-4639-994c-c556538baa4b",
   "metadata": {},
   "outputs": [
    {
     "data": {
      "text/plain": [
       "Time_spent_Alone              int64\n",
       "Stage_fear                   object\n",
       "Social_event_attendance       int64\n",
       "Going_outside                 int64\n",
       "Drained_after_socializing    object\n",
       "Friends_circle_size           int64\n",
       "Post_frequency                int64\n",
       "Personality                  object\n",
       "dtype: object"
      ]
     },
     "execution_count": 4,
     "metadata": {},
     "output_type": "execute_result"
    }
   ],
   "source": [
    "data.dtypes # finding what are the data types "
   ]
  },
  {
   "cell_type": "markdown",
   "id": "5fe64ec9-68ca-4417-95b2-54d721763eac",
   "metadata": {},
   "source": [
    "----Encoding categorical variables----"
   ]
  },
  {
   "cell_type": "code",
   "execution_count": 6,
   "id": "b32567ce-9bfb-47b5-8efa-596b4c6cbae1",
   "metadata": {},
   "outputs": [
    {
     "name": "stdout",
     "output_type": "stream",
     "text": [
      "Data after encoding:\n"
     ]
    },
    {
     "data": {
      "text/html": [
       "<div>\n",
       "<style scoped>\n",
       "    .dataframe tbody tr th:only-of-type {\n",
       "        vertical-align: middle;\n",
       "    }\n",
       "\n",
       "    .dataframe tbody tr th {\n",
       "        vertical-align: top;\n",
       "    }\n",
       "\n",
       "    .dataframe thead th {\n",
       "        text-align: right;\n",
       "    }\n",
       "</style>\n",
       "<table border=\"1\" class=\"dataframe\">\n",
       "  <thead>\n",
       "    <tr style=\"text-align: right;\">\n",
       "      <th></th>\n",
       "      <th>Time_spent_Alone</th>\n",
       "      <th>Stage_fear</th>\n",
       "      <th>Social_event_attendance</th>\n",
       "      <th>Going_outside</th>\n",
       "      <th>Drained_after_socializing</th>\n",
       "      <th>Friends_circle_size</th>\n",
       "      <th>Post_frequency</th>\n",
       "      <th>Personality</th>\n",
       "    </tr>\n",
       "  </thead>\n",
       "  <tbody>\n",
       "    <tr>\n",
       "      <th>0</th>\n",
       "      <td>3</td>\n",
       "      <td>1</td>\n",
       "      <td>6</td>\n",
       "      <td>7</td>\n",
       "      <td>0</td>\n",
       "      <td>14</td>\n",
       "      <td>5</td>\n",
       "      <td>1</td>\n",
       "    </tr>\n",
       "    <tr>\n",
       "      <th>1</th>\n",
       "      <td>2</td>\n",
       "      <td>0</td>\n",
       "      <td>8</td>\n",
       "      <td>6</td>\n",
       "      <td>0</td>\n",
       "      <td>7</td>\n",
       "      <td>8</td>\n",
       "      <td>1</td>\n",
       "    </tr>\n",
       "    <tr>\n",
       "      <th>2</th>\n",
       "      <td>1</td>\n",
       "      <td>0</td>\n",
       "      <td>9</td>\n",
       "      <td>4</td>\n",
       "      <td>0</td>\n",
       "      <td>9</td>\n",
       "      <td>3</td>\n",
       "      <td>1</td>\n",
       "    </tr>\n",
       "    <tr>\n",
       "      <th>3</th>\n",
       "      <td>8</td>\n",
       "      <td>0</td>\n",
       "      <td>0</td>\n",
       "      <td>0</td>\n",
       "      <td>1</td>\n",
       "      <td>9</td>\n",
       "      <td>3</td>\n",
       "      <td>0</td>\n",
       "    </tr>\n",
       "    <tr>\n",
       "      <th>4</th>\n",
       "      <td>5</td>\n",
       "      <td>1</td>\n",
       "      <td>3</td>\n",
       "      <td>0</td>\n",
       "      <td>0</td>\n",
       "      <td>2</td>\n",
       "      <td>6</td>\n",
       "      <td>0</td>\n",
       "    </tr>\n",
       "  </tbody>\n",
       "</table>\n",
       "</div>"
      ],
      "text/plain": [
       "   Time_spent_Alone  Stage_fear  Social_event_attendance  Going_outside  \\\n",
       "0                 3           1                        6              7   \n",
       "1                 2           0                        8              6   \n",
       "2                 1           0                        9              4   \n",
       "3                 8           0                        0              0   \n",
       "4                 5           1                        3              0   \n",
       "\n",
       "   Drained_after_socializing  Friends_circle_size  Post_frequency  Personality  \n",
       "0                          0                   14               5            1  \n",
       "1                          0                    7               8            1  \n",
       "2                          0                    9               3            1  \n",
       "3                          1                    9               3            0  \n",
       "4                          0                    2               6            0  "
      ]
     },
     "metadata": {},
     "output_type": "display_data"
    }
   ],
   "source": [
    "# encoding for 3 categorical variables\n",
    "\n",
    "fear_map = {'Yes': 1, 'No': 0}\n",
    "drained_map = {'Yes': 1, 'No': 0}\n",
    "personality_map = {'Extrovert': 1, 'Introvert': 0}\n",
    "\n",
    "data['Stage_fear'] = data['Stage_fear'].map(fear_map)\n",
    "data['Drained_after_socializing'] = data['Drained_after_socializing'].map(drained_map)\n",
    "data['Personality'] = data['Personality'].map(personality_map)\n",
    "\n",
    "print(\"Data after encoding:\")\n",
    "display(data.head())"
   ]
  },
  {
   "cell_type": "markdown",
   "id": "3543aa1a-4c08-46bc-b778-6c323f929ad1",
   "metadata": {},
   "source": [
    "EDA  Visualization after Encoding (Countplot)"
   ]
  },
  {
   "cell_type": "code",
   "execution_count": 10,
   "id": "c73a2732-ee50-4d86-9df3-2ce89e2c30f2",
   "metadata": {},
   "outputs": [
    {
     "data": {
      "image/png": "[encoded data removed]",
      "text/plain": [
       "<Figure size 600x400 with 1 Axes>"
      ]
     },
     "metadata": {},
     "output_type": "display_data"
    },
    {
     "data": {
      "image/png": "[encoded data removed]",
      "text/plain": [
       "<Figure size 600x400 with 1 Axes>"
      ]
     },
     "metadata": {},
     "output_type": "display_data"
    },
    {
     "data": {
      "image/png": "[encoded data removed]",
      "text/plain": [
       "<Figure size 600x400 with 1 Axes>"
      ]
     },
     "metadata": {},
     "output_type": "display_data"
    }
   ],
   "source": [
    "# Countplot for Stage_fear \n",
    "plt.figure(figsize=(6,4))\n",
    "sns.countplot(x='Stage_fear', data=data, palette='Blues', hue='Stage_fear', legend=False)\n",
    "plt.title(\"Distribution of Stage Fear (0 = No, 1 = Yes)\")\n",
    "plt.show()\n",
    "\n",
    "# Countplot for Drained_after_socializing \n",
    "plt.figure(figsize=(6,4))\n",
    "sns.countplot(x='Drained_after_socializing', data=data, palette='Greens', hue='Drained_after_socializing', legend=False)\n",
    "plt.title(\"Drained After Socializing (0 = No, 1 = Yes)\")\n",
    "plt.show()\n",
    "\n",
    "# Countplot for Personality\n",
    "plt.figure(figsize=(6,4))\n",
    "sns.countplot(x='Personality', data=data, palette='Oranges', hue='Personality', legend=False)\n",
    "plt.title(\"Personality Distribution (0 = Introvert, 1 = Extrovert)\")\n",
    "plt.show()"
   ]
  }
 ],
 "metadata": {
  "kernelspec": {
   "display_name": "Python 3 (ipykernel)",
   "language": "python",
   "name": "python3"
  },
  "language_info": {
   "codemirror_mode": {
    "name": "ipython",
    "version": 3
   },
   "file_extension": ".py",
   "mimetype": "text/x-python",
   "name": "python",
   "nbconvert_exporter": "python",
   "pygments_lexer": "ipython3",
   "version": "3.13.7"
  }
 },
 "nbformat": 4,
 "nbformat_minor": 5
}
